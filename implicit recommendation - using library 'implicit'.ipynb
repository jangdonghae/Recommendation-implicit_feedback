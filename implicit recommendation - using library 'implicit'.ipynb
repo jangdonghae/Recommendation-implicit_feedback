{
 "cells": [
  {
   "cell_type": "code",
   "execution_count": 1,
   "metadata": {},
   "outputs": [
    {
     "name": "stderr",
     "output_type": "stream",
     "text": [
      "C:\\Users\\JDH\\Anaconda3\\lib\\site-packages\\ipykernel_launcher.py:13: FutureWarning: read_table is deprecated, use read_csv instead, passing sep='\\t'.\n",
      "  del sys.path[0]\n"
     ]
    }
   ],
   "source": [
    "import sys\n",
    "import pandas as pd\n",
    "import numpy as np\n",
    "import scipy.sparse as sparse\n",
    "from scipy.sparse.linalg import spsolve\n",
    "import random\n",
    "\n",
    "from sklearn.preprocessing import MinMaxScaler\n",
    "\n",
    "import implicit # The Cython library\n",
    "\n",
    "# Load the data like we did before\n",
    "raw_data = pd.read_table('data/usersha1-artmbid-artname-plays.tsv')\n",
    "raw_data = raw_data.drop(raw_data.columns[1], axis=1)\n",
    "raw_data.columns = ['user', 'artist', 'plays']\n",
    "\n",
    "# Drop NaN columns\n",
    "data = raw_data.dropna()\n",
    "data = data.copy()\n",
    "\n",
    "# Create a numeric user_id and artist_id column\n",
    "data['user'] = data['user'].astype(\"category\")\n",
    "data['artist'] = data['artist'].astype(\"category\")\n",
    "data['user_id'] = data['user'].cat.codes\n",
    "data['artist_id'] = data['artist'].cat.codes\n",
    "\n",
    "# The implicit library expects data as a item-user matrix so we\n",
    "# create two matricies, one for fitting the model (item-user) \n",
    "# and one for recommendations (user-item)\n",
    "sparse_item_user = sparse.csr_matrix((data['plays'].astype(float), (data['artist_id'], data['user_id'])))\n",
    "sparse_user_item = sparse.csr_matrix((data['plays'].astype(float), (data['user_id'], data['artist_id'])))\n"
   ]
  },
  {
   "cell_type": "code",
   "execution_count": 13,
   "metadata": {},
   "outputs": [],
   "source": [
    "# Create lists of all users, artists and plays\n",
    "users = list(np.sort(data.user_id.unique()))\n",
    "artists = list(np.sort(data.artist_id.unique()))\n",
    "plays = list(data.plays)"
   ]
  },
  {
   "cell_type": "code",
   "execution_count": 19,
   "metadata": {},
   "outputs": [
    {
     "data": {
      "text/plain": [
       "0           00000c289a1829a808ac09c00daf10bc3c4e223b\n",
       "1           00000c289a1829a808ac09c00daf10bc3c4e223b\n",
       "2           00000c289a1829a808ac09c00daf10bc3c4e223b\n",
       "3           00000c289a1829a808ac09c00daf10bc3c4e223b\n",
       "4           00000c289a1829a808ac09c00daf10bc3c4e223b\n",
       "5           00000c289a1829a808ac09c00daf10bc3c4e223b\n",
       "6           00000c289a1829a808ac09c00daf10bc3c4e223b\n",
       "7           00000c289a1829a808ac09c00daf10bc3c4e223b\n",
       "8           00000c289a1829a808ac09c00daf10bc3c4e223b\n",
       "9           00000c289a1829a808ac09c00daf10bc3c4e223b\n",
       "10          00000c289a1829a808ac09c00daf10bc3c4e223b\n",
       "11          00000c289a1829a808ac09c00daf10bc3c4e223b\n",
       "12          00000c289a1829a808ac09c00daf10bc3c4e223b\n",
       "13          00000c289a1829a808ac09c00daf10bc3c4e223b\n",
       "14          00000c289a1829a808ac09c00daf10bc3c4e223b\n",
       "15          00000c289a1829a808ac09c00daf10bc3c4e223b\n",
       "16          00000c289a1829a808ac09c00daf10bc3c4e223b\n",
       "17          00000c289a1829a808ac09c00daf10bc3c4e223b\n",
       "18          00000c289a1829a808ac09c00daf10bc3c4e223b\n",
       "19          00000c289a1829a808ac09c00daf10bc3c4e223b\n",
       "20          00000c289a1829a808ac09c00daf10bc3c4e223b\n",
       "21          00000c289a1829a808ac09c00daf10bc3c4e223b\n",
       "22          00000c289a1829a808ac09c00daf10bc3c4e223b\n",
       "23          00000c289a1829a808ac09c00daf10bc3c4e223b\n",
       "24          00000c289a1829a808ac09c00daf10bc3c4e223b\n",
       "25          00000c289a1829a808ac09c00daf10bc3c4e223b\n",
       "26          00000c289a1829a808ac09c00daf10bc3c4e223b\n",
       "27          00000c289a1829a808ac09c00daf10bc3c4e223b\n",
       "28          00000c289a1829a808ac09c00daf10bc3c4e223b\n",
       "29          00000c289a1829a808ac09c00daf10bc3c4e223b\n",
       "                              ...                   \n",
       "17535624                                sep 20, 2008\n",
       "17535625                                sep 20, 2008\n",
       "17535626                                sep 20, 2008\n",
       "17535627                                sep 20, 2008\n",
       "17535628                                sep 20, 2008\n",
       "17535629                                sep 20, 2008\n",
       "17535630                                sep 20, 2008\n",
       "17535631                                sep 20, 2008\n",
       "17535632                                sep 20, 2008\n",
       "17535633                                sep 20, 2008\n",
       "17535634                                sep 20, 2008\n",
       "17535635                                sep 20, 2008\n",
       "17535636                                sep 20, 2008\n",
       "17535637                                sep 20, 2008\n",
       "17535638                                sep 20, 2008\n",
       "17535639                                sep 20, 2008\n",
       "17535640                                sep 20, 2008\n",
       "17535641                                sep 20, 2008\n",
       "17535642                                sep 20, 2008\n",
       "17535643                                sep 20, 2008\n",
       "17535644                                sep 20, 2008\n",
       "17535645                                sep 20, 2008\n",
       "17535646                                sep 20, 2008\n",
       "17535647                                sep 20, 2008\n",
       "17535648                                sep 20, 2008\n",
       "17535649                                sep 20, 2008\n",
       "17535650                                sep 20, 2008\n",
       "17535651                                sep 20, 2008\n",
       "17535652                                sep 20, 2008\n",
       "17535653                                sep 20, 2008\n",
       "Name: user, Length: 17535450, dtype: category\n",
       "Categories (358868, object): [00000c289a1829a808ac09c00daf10bc3c4e223b, 00001411dc427966b17297bf4d69e7e193135d89, 00004d2ac9316e22dc007ab2243d6fcb239e707d, 000063d3fe1cf2ba248b9e3c3f0334845a27a6bf, ..., fffe8c7f952d9b960a56ed4dcb40a415d924b224, ffff9af9ae04d263dae91cb838b1f3a6725f5ffb, ffff9ef87a7d9494ada2f9ade4b9ff637c0759ac, sep 20, 2008]"
      ]
     },
     "execution_count": 19,
     "metadata": {},
     "output_type": "execute_result"
    }
   ],
   "source": []
  },
  {
   "cell_type": "code",
   "execution_count": 2,
   "metadata": {},
   "outputs": [
    {
     "name": "stderr",
     "output_type": "stream",
     "text": [
      "WARNING:root:Intel MKL BLAS detected. Its highly recommend to set the environment variable 'export MKL_NUM_THREADS=1' to disable its internal multithreading\n",
      "100%|████████████████████████████████████████████████████████████████████████████████| 20.0/20 [00:36<00:00,  1.85s/it]\n"
     ]
    }
   ],
   "source": [
    "# Initialize the als model and fit it using the sparse item-user matrix\n",
    "model = implicit.als.AlternatingLeastSquares(factors=20, regularization=0.1, iterations=20)\n",
    "\n",
    "# Calculate the confidence by multiplying it by our alpha value.\n",
    "alpha_val = 15\n",
    "data_conf = (sparse_item_user * alpha_val).astype('double')\n",
    "\n",
    "# Fit the model\n",
    "model.fit(data_conf)\n"
   ]
  },
  {
   "cell_type": "code",
   "execution_count": 3,
   "metadata": {},
   "outputs": [
    {
     "data": {
      "text/plain": [
       "(17535450, 5)"
      ]
     },
     "execution_count": 3,
     "metadata": {},
     "output_type": "execute_result"
    }
   ],
   "source": [
    "data.shape"
   ]
  },
  {
   "cell_type": "code",
   "execution_count": 7,
   "metadata": {},
   "outputs": [
    {
     "name": "stdout",
     "output_type": "stream",
     "text": [
      "jay-z\n",
      "outkast\n",
      "snoop dogg\n",
      "2pac\n",
      "lupe fiasco\n",
      "the roots\n",
      "atmosphere\n",
      "the streets\n",
      "cypress hill\n",
      "m.i.a.\n"
     ]
    }
   ],
   "source": [
    "#---------------------\n",
    "# FIND SIMILAR ITEMS\n",
    "#---------------------\n",
    "\n",
    "# Find the 10 most similar to Jay-Z\n",
    "item_id = 147068 #Jay-Z\n",
    "n_similar = 10\n",
    "\n",
    "# Get the user and item vectors from our trained model\n",
    "user_vecs = model.user_factors\n",
    "item_vecs = model.item_factors\n",
    "\n",
    "# Calculate the vector norms\n",
    "item_norms = np.sqrt((item_vecs * item_vecs).sum(axis=1))\n",
    "\n",
    "# Calculate the similarity score, grab the top N items and\n",
    "# create a list of item-score tuples of most similar artists\n",
    "scores = item_vecs.dot(item_vecs[item_id]) / item_norms\n",
    "top_idx = np.argpartition(scores, -n_similar)[-n_similar:]\n",
    "similar = sorted(zip(top_idx, scores[top_idx] / item_norms[item_id]), key=lambda x: -x[1])\n",
    "\n",
    "# Print the names of our most similar artists\n",
    "for item in similar:\n",
    "    idx, score = item\n",
    "    print(data.artist.loc[data.artist_id == idx].iloc[0])"
   ]
  },
  {
   "cell_type": "code",
   "execution_count": 9,
   "metadata": {},
   "outputs": [
    {
     "name": "stdout",
     "output_type": "stream",
     "text": [
      "                             artist     score\n",
      "0                               npr  1.000000\n",
      "1                      brian wilson  0.993433\n",
      "2                 drive-by truckers  0.981801\n",
      "3                      randy newman  0.981511\n",
      "4                              ween  0.981055\n",
      "5                         sam cooke  0.977087\n",
      "6  elvis costello & the attractions  0.973810\n",
      "7                           buck 65  0.972460\n",
      "8            sly & the family stone  0.969094\n",
      "9               billy bragg & wilco  0.967778\n"
     ]
    }
   ],
   "source": [
    "#------------------------------\n",
    "# CREATE USER RECOMMENDATIONS\n",
    "#------------------------------\n",
    "\n",
    "def recommend(user_id, sparse_user_item, user_vecs, item_vecs, num_items=10):\n",
    "    \"\"\"The same recommendation function we used before\"\"\"\n",
    "\n",
    "    user_interactions = sparse_user_item[user_id,:].toarray()\n",
    "\n",
    "    user_interactions = user_interactions.reshape(-1) + 1\n",
    "    user_interactions[user_interactions > 1] = 0\n",
    "\n",
    "    rec_vector = user_vecs[user_id,:].dot(item_vecs.T).toarray()\n",
    "\n",
    "    min_max = MinMaxScaler()\n",
    "    rec_vector_scaled = min_max.fit_transform(rec_vector.reshape(-1,1))[:,0]\n",
    "    recommend_vector = user_interactions * rec_vector_scaled\n",
    "\n",
    "    item_idx = np.argsort(recommend_vector)[::-1][:num_items]\n",
    "\n",
    "    artists = []\n",
    "    scores = []\n",
    "\n",
    "    for idx in item_idx:\n",
    "        artists.append(data.artist.loc[data.artist_id == idx].iloc[0])\n",
    "        scores.append(recommend_vector[idx])\n",
    "\n",
    "    recommendations = pd.DataFrame({'artist': artists, 'score': scores})\n",
    "\n",
    "    return recommendations\n",
    "\n",
    "# Get the trained user and item vectors. We convert them to \n",
    "# csr matrices to work with our previous recommend function.\n",
    "user_vecs = sparse.csr_matrix(model.user_factors)\n",
    "item_vecs = sparse.csr_matrix(model.item_factors)\n",
    "\n",
    "# Create recommendations for user with id 2025\n",
    "user_id = 2025\n",
    "\n",
    "recommendations = recommend(user_id, sparse_user_item, user_vecs, item_vecs)\n",
    "\n",
    "print(recommendations)"
   ]
  },
  {
   "cell_type": "code",
   "execution_count": 11,
   "metadata": {},
   "outputs": [
    {
     "name": "stdout",
     "output_type": "stream",
     "text": [
      "                             artist     score\n",
      "0                               npr  1.141535\n",
      "1                      brian wilson  1.130543\n",
      "2                 drive-by truckers  1.111072\n",
      "3                      randy newman  1.110586\n",
      "4                              ween  1.109824\n",
      "5                         sam cooke  1.103181\n",
      "6  elvis costello & the attractions  1.097696\n",
      "7                           buck 65  1.095436\n",
      "8            sly & the family stone  1.089803\n",
      "9               billy bragg & wilco  1.087600\n"
     ]
    }
   ],
   "source": [
    "#------------------------------\n",
    "# CREATE USER RECOMMENDATIONS\n",
    "#------------------------------\n",
    "\n",
    "# Create recommendations for user with id 2025\n",
    "user_id = 2025\n",
    "\n",
    "# Use the implicit recommender.\n",
    "recommended = model.recommend(user_id, sparse_user_item)\n",
    "\n",
    "artists = []\n",
    "scores = []\n",
    "\n",
    "# Get artist names from ids\n",
    "for item in recommended:\n",
    "    idx, score = item\n",
    "    artists.append(data.artist.loc[data.artist_id == idx].iloc[0])\n",
    "    scores.append(score)\n",
    "\n",
    "# Create a dataframe of artist names and scores\n",
    "recommendations = pd.DataFrame({'artist': artists, 'score': scores})\n",
    "\n",
    "print(recommendations)"
   ]
  }
 ],
 "metadata": {
  "kernelspec": {
   "display_name": "Python 3",
   "language": "python",
   "name": "python3"
  },
  "language_info": {
   "codemirror_mode": {
    "name": "ipython",
    "version": 3
   },
   "file_extension": ".py",
   "mimetype": "text/x-python",
   "name": "python",
   "nbconvert_exporter": "python",
   "pygments_lexer": "ipython3",
   "version": "3.8.3"
  }
 },
 "nbformat": 4,
 "nbformat_minor": 2
}
